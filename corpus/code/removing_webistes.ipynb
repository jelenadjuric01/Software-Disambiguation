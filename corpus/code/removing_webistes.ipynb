{
 "cells": [
  {
   "cell_type": "markdown",
   "id": "0a1b6392",
   "metadata": {},
   "source": [
    "The notebook that will from any version of corpus remove all websites from ground truth and from candidate URLs."
   ]
  },
  {
   "cell_type": "code",
   "execution_count": 1,
   "id": "cccdaded",
   "metadata": {},
   "outputs": [],
   "source": [
    "import pandas as pd\n",
    "from urllib.parse import urlparse\n",
    "from urllib.parse import urlparse, parse_qs"
   ]
  },
  {
   "cell_type": "code",
   "execution_count": 2,
   "id": "8d762e2e",
   "metadata": {},
   "outputs": [],
   "source": [
    "from urllib.parse import urlparse\n",
    "\n",
    "def is_website(url: str) -> bool:\n",
    "    \"\"\"\n",
    "    Return True if `url` is *not* a GitHub repo, PyPI package, or CRAN package link.\n",
    "    Otherwise (if it’s one of those), return False.\n",
    "\n",
    "    Raises:\n",
    "        ValueError: if `url` is empty or not a string.\n",
    "    \"\"\"\n",
    "    if not isinstance(url, str) or not url.strip():\n",
    "        raise ValueError(\"Invalid URL\")\n",
    "\n",
    "    parsed = urlparse(url.strip())\n",
    "    domain = parsed.netloc.lower()\n",
    "    path = parsed.path or \"\"\n",
    "\n",
    "    # GitHub repositories\n",
    "    if \"github.com\" in domain:\n",
    "        return False\n",
    "\n",
    "    # PyPI packages\n",
    "    if domain in {\"pypi.org\", \"pypi.python.org\"}:\n",
    "        return False\n",
    "\n",
    "    # CRAN packages\n",
    "    if domain == \"cran.r-project.org\" and (\n",
    "        path.startswith(\"/web/packages/\") or path.startswith(\"/package=\")\n",
    "    ):\n",
    "        return False\n",
    "\n",
    "    # Anything else we treat as a “generic” website\n",
    "    return True\n"
   ]
  },
  {
   "cell_type": "code",
   "execution_count": 3,
   "id": "ce040d8d",
   "metadata": {},
   "outputs": [],
   "source": [
    "def remove_websites(cell):\n",
    "    \"\"\"\n",
    "    Given a comma-separated string of URLs, remove all URLs\n",
    "    for which is_website(url) returns True, and re-join the rest.\n",
    "    \"\"\"\n",
    "    # preserve NaNs\n",
    "    if pd.isna(cell):\n",
    "        return cell\n",
    "\n",
    "    # split & clean\n",
    "    parts = [u.strip() for u in cell.split(\",\") if u.strip()]\n",
    "    # keep only the “specialized” repo/package URLs\n",
    "    keep = [u for u in parts if not is_website(u)]\n",
    "    return \", \".join(keep)\n",
    "\n"
   ]
  },
  {
   "cell_type": "code",
   "execution_count": null,
   "id": "d5f49410",
   "metadata": {},
   "outputs": [],
   "source": [
    "df = pd.read_excel(\"../corpus_v2.xlsx\")\n",
    "# Example: apply in place to both columns\n",
    "for col in [\"candidate_urls\", \"url (ground truth)\"]:\n",
    "    df[col] = df[col].apply(remove_websites)\n",
    "df = df.loc[\n",
    "    df['url (ground truth)']\n",
    "      .fillna('')           # turn NaNs into ''\n",
    "      .str.strip()          # remove any leading/trailing whitespace\n",
    "      .astype(bool)         # keep only non-empty strings\n",
    "]\n",
    "\n",
    "# If you prefer to modify in-place:\n",
    "df['url (ground truth)'] = df['url (ground truth)'].fillna('').str.strip()\n",
    "df = df[df['url (ground truth)'].astype(bool)]\n",
    "df['id'] = range(1, len(df) + 1)\n",
    "\n",
    "# Save the modified DataFrame to a new Excel file\n",
    "df.to_excel(\"../corpus_v3.xlsx\", index=False)"
   ]
  }
 ],
 "metadata": {
  "kernelspec": {
   "display_name": "Python 3",
   "language": "python",
   "name": "python3"
  },
  "language_info": {
   "codemirror_mode": {
    "name": "ipython",
    "version": 3
   },
   "file_extension": ".py",
   "mimetype": "text/x-python",
   "name": "python",
   "nbconvert_exporter": "python",
   "pygments_lexer": "ipython3",
   "version": "3.12.3"
  }
 },
 "nbformat": 4,
 "nbformat_minor": 5
}
