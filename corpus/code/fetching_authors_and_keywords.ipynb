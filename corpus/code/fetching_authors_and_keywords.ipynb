{
 "cells": [
  {
   "cell_type": "markdown",
   "id": "85a5cc8a",
   "metadata": {},
   "source": [
    "Fetching authors and keywords\n",
    "\n",
    "This is notebook that does fetching of author IDs and keywords of a paper based on its DOI using OpenAlex. This notebook is downloaded from https://github.com/SoftwareUnderstanding/SoftwareDisambiguationBenchmark/blob/56bf84109d4be642a16037e5cf8cdd9862e7aa7e/enrichment_notebooks/Use_CZI_mentions.ipynb.\n"
   ]
  },
  {
   "cell_type": "code",
   "execution_count": 4,
   "id": "bb3e6676",
   "metadata": {},
   "outputs": [],
   "source": [
    "import pandas as pd\n",
    "import numpy as np\n",
    "import requests\n",
    "pd.set_option('max_colwidth', 1000)\n"
   ]
  },
  {
   "cell_type": "code",
   "execution_count": 5,
   "id": "55279f29",
   "metadata": {},
   "outputs": [],
   "source": [
    "# given a DOI, get the topics that are relevant from OpenAlex\n",
    "# We get the topics over 0.5 to get the most relevants only\n",
    "def getTopicsAndAuthors(doi):\n",
    "    # Set the URL for the OpenAlex API\n",
    "    url = \"https://api.openalex.org/works/https://doi.org/\"\n",
    "    # Set the headers\n",
    "    headers = {\n",
    "        'Accept': 'application/json',\n",
    "        'Content-Type': 'application/json',\n",
    "    }\n",
    "    # Set the parameters for the query\n",
    "    #params = {\n",
    "    #    'query': 'your_query_here',  # Replace 'your_query_here' with your actual query\n",
    "    #    'apikey': 'your_api_key_here',  # Replace 'your_api_key_here' with your actual API key\n",
    "    #}\n",
    "    response = requests.get(url+str(doi), headers=headers)\n",
    "    json_response = response.json()\n",
    "    return_value = {\"doi\":doi}\n",
    "    if(json_response[\"concepts\"] is not None):\n",
    "        return_list = []\n",
    "        for concept in json_response[\"concepts\"]:\n",
    "            if(concept[\"score\"]> 0.5):\n",
    "                return_list.append(concept[\"display_name\"])\n",
    "    return_value[\"concepts\"] = return_list\n",
    "    if(json_response[\"authorships\"] is not None):\n",
    "        return_authors = []\n",
    "        return_authors_openAlex = []\n",
    "        for author in json_response[\"authorships\"]:\n",
    "            if(author[\"author\"]):\n",
    "                a = author[\"author\"]\n",
    "                return_authors_openAlex.append(a[\"id\"])\n",
    "                return_authors.append(a[\"display_name\"])\n",
    "    return_value[\"authors\"] = return_authors\n",
    "    return_value[\"authors_openAlex\"] = return_authors_openAlex\n",
    "    return return_value\n",
    "    "
   ]
  },
  {
   "cell_type": "code",
   "execution_count": 6,
   "id": "c837dadf",
   "metadata": {},
   "outputs": [],
   "source": [
    "\n",
    "\n",
    "# Load the CSV file\n",
    "csv_path = \"D:/MASTER/TMF/Software-Disambiguation/corpus/pypi_sampled.csv\"  \n",
    "df = pd.read_csv(csv_path,delimiter=\";\")\n",
    "results = df['doi'].apply(getTopicsAndAuthors)\n",
    "\n",
    "    # Extract data and add new columns\n",
    "df['authors_oa'] = results.apply(lambda x: ','.join(x.get('authors_openAlex', [])) if isinstance(x, dict) else '')\n",
    "df['authors'] = results.apply(lambda x: ','.join(x.get('authors', [])) if isinstance(x, dict) else '')\n",
    "df['field/topic/keywords'] = results.apply(lambda x: ','.join(x.get('concepts', [])) if isinstance(x, dict) else '')\n",
    "\n",
    "# Save the updated dataframe\n",
    "updated_csv_path = \"D:/MASTER/TMF/Software-Disambiguation/corpus/pypi_sampled.csv\"\n",
    "df.to_csv(updated_csv_path, index=False)\n",
    "\n",
    "\n"
   ]
  }
 ],
 "metadata": {
  "kernelspec": {
   "display_name": "Python 3",
   "language": "python",
   "name": "python3"
  },
  "language_info": {
   "codemirror_mode": {
    "name": "ipython",
    "version": 3
   },
   "file_extension": ".py",
   "mimetype": "text/x-python",
   "name": "python",
   "nbconvert_exporter": "python",
   "pygments_lexer": "ipython3",
   "version": "3.12.3"
  }
 },
 "nbformat": 4,
 "nbformat_minor": 5
}
