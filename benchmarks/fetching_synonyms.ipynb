{
 "cells": [
  {
   "cell_type": "markdown",
   "metadata": {},
   "source": [
    "Fetching synonyms from CZI and SoftwareKG dataset \n",
    "\n",
    "Considering that CZI has synonyms fetched from most used software websites (PyPi, CRAN, Bioconductor and SciCrunch) this notebook will for every software in the benchmark query the datasets and try to retrieve synonyms. \n",
    "\n",
    "First we save all unique software names (lowered) into a dictionary, the using a function get_synonyms_CIZ, we find all synonyms that have software_mention (lowered) the same as the key in the dictionary. Dictionary is used in order to speed up the process.\n",
    "\n",
    "Next, we query SoftwareKG graphs for synonyms (lowered). Again, the dictionary is used to speed up the process by querieng only once for the same name. This is done in get_synonyms_from_SoftwareKG function.\n",
    "\n",
    "CZI dataset was downloaded from https://datadryad.org/dataset/doi:10.5061/dryad.6wwpzgn2c#methods (disambiguated file).\n",
    "SoftwareKG SPARQL point: https://data.gesis.org/somesci/sparql"
   ]
  },
  {
   "cell_type": "code",
   "execution_count": 16,
   "metadata": {},
   "outputs": [],
   "source": [
    "import pandas as pd \n",
    "#Read files\n",
    "df = pd.read_csv(\"CZI/synonyms_matrix.csv\")\n",
    "benchmark_df = pd.read_excel(\"Benchmark.xlsx\")"
   ]
  },
  {
   "cell_type": "code",
   "execution_count": 17,
   "metadata": {},
   "outputs": [
    {
     "name": "stdout",
     "output_type": "stream",
     "text": [
      "2\n",
      "0\n"
     ]
    }
   ],
   "source": [
    "#check for null values and drop them\n",
    "#turning all names into strings\n",
    "print(df[\"software_mention\"].isnull().sum())\n",
    "df = df.dropna(subset=[\"software_mention\"])\n",
    "print(df[\"software_mention\"].isnull().sum())\n",
    "df['software_mention'] = df['software_mention'].astype(str)  # Convert all values to strings\n",
    "benchmark_df['name']=benchmark_df['name'].astype(str)\n"
   ]
  },
  {
   "cell_type": "code",
   "execution_count": 18,
   "metadata": {},
   "outputs": [],
   "source": [
    "#making a dictionary for the benchmark\n",
    "benchmark_dictonary = {name.lower(): set() for name in benchmark_df[\"name\"].unique()}\n"
   ]
  },
  {
   "cell_type": "code",
   "execution_count": 19,
   "metadata": {},
   "outputs": [],
   "source": [
    "#Function that retirieves synonyms for each software mention\n",
    "def get_synonyms_from_CZI(df, dictionary):\n",
    "    for key in dictionary.keys():\n",
    "        # Find matching rows in synonyms_df where the software mention matches the dictionary key\n",
    "        matches = df[df[\"software_mention\"].str.lower() == key][\"synonym\"].tolist()\n",
    "        # Store synonyms as a list\n",
    "        dictionary[key].update(matches)\n",
    "\n",
    "    "
   ]
  },
  {
   "cell_type": "code",
   "execution_count": 20,
   "metadata": {},
   "outputs": [],
   "source": [
    "from SPARQLWrapper import SPARQLWrapper, JSON\n",
    "\n",
    "\n",
    "def get_synonyms_from_SoftwareKG(dictionary):\n",
    "    # Define the SPARQL endpoint\n",
    "    sparql = SPARQLWrapper(\"https://data.gesis.org/somesci/sparql\")\n",
    "    # Execute the query\n",
    "    for key in dictionary.keys():\n",
    "        query = f\"\"\"\n",
    "    PREFIX nif: <http://persistence.uni-leipzig.org/nlp2rdf/ontologies/nif-core#>\n",
    "PREFIX sms: <http://data.gesis.org/somesci/>\n",
    "PREFIX its: <http://www.w3.org/2005/11/its/rdf#>\n",
    "\n",
    "SELECT DISTINCT ?synonym\n",
    "WHERE {{\n",
    "    # Find the software entity associated with the given spelling\n",
    "    ?sw_phrase a nif:Phrase ;\n",
    "               its:taClassRef [ rdfs:subClassOf sms:Software ] ;\n",
    "               its:taIdentRef ?sw_identity ;\n",
    "               nif:anchorOf \"{key}\" .  # Replace \"Excel\" with the desired software name\n",
    "\n",
    "    # Retrieve other spellings linked to the same software identity\n",
    "    ?other_phrase its:taIdentRef ?sw_identity ;\n",
    "                  nif:anchorOf ?synonym .\n",
    "    \n",
    "    FILTER (?synonym != \"{key}\")  # Exclude the original input spelling from results\n",
    "}}\n",
    "ORDER BY ?synonym\n",
    "    \"\"\"\n",
    "        try:\n",
    "            # Set query and return format\n",
    "            sparql.setQuery(query)\n",
    "            sparql.setReturnFormat(JSON)\n",
    "            results = sparql.query().convert()\n",
    "\n",
    "            # Process results\n",
    "            for result in results[\"results\"][\"bindings\"]:\n",
    "                synonym = result.get(\"synonym\", {}).get(\"value\")\n",
    "                if synonym:\n",
    "                    dictionary[key].add(synonym)\n",
    "\n",
    "        except Exception as e:\n",
    "            print(f\"Error retrieving synonyms for {key}: {e}\")\n",
    "        "
   ]
  },
  {
   "cell_type": "code",
   "execution_count": 21,
   "metadata": {},
   "outputs": [],
   "source": [
    "def get_synonyms(dictionary, CZI = 1, SoftwareKG = 1):\n",
    "    if CZI == 1:\n",
    "        get_synonyms_from_CZI(df, dictionary)\n",
    "    if SoftwareKG == 1:\n",
    "        get_synonyms_from_SoftwareKG(dictionary)\n",
    "    dictionary = {key: \", \".join(value) for key, value in dictionary.items()}\n",
    "    return dictionary"
   ]
  },
  {
   "cell_type": "code",
   "execution_count": 22,
   "metadata": {},
   "outputs": [
    {
     "name": "stdout",
     "output_type": "stream",
     "text": [
      "{'sklearn': 'sklearn_extra, sklearn Python library, Sklearn API, sklearn Python package, sklear, sklearn.hmm, sklearn‐rvm, sklearn.tree, sklearn python package, sklearn”, Scikit-learn, Python sklearn, sklearn Python, sklearn, Python sklearn package, Python package sklearn, sklearn.utils, scikits.learn, sklearn0, sklearning, sklearn.svm, Python sklearn library, sklearn-fuse', 'sklearn python package': 'learn Python package37, hmmlearn Python package, Nilearn Python package, sklearn Python, sklearn Python package, sklearn package, sklearn python package', 'python package sklearn': 'Python package scipy, Python package “scikit-learn”, Python package seaborn, Python package scikit learn, Python package scikit-learn, Python package Holes, Python package sci-kit learn, Python sklearn package, Python packages, Python package Scikit-learn, Python package scikits.learn, Python package scikit‐learn, Python sklearn', 'python sklearn library': 'Python Scikit-learn library, Python ‘sklearn’ library, Python Scikit-Learn library, Python Sklearn library, Python sklearn-library, Python sklearn library, Python Sklearn, Python3 sklearn library, Python scikit-learn library, Python sklearn', 'python sklearn': 'Python Sklearn library, Python-sklearn, Python sklearn-library, Python3 sklearn, Python sklearn package, Python sklearn library, Python package sklearn, Python Sklearn, Python sklearn.cluster, Python sklearn', 'sklearn python': 'Sklearn of Python, sklearn.utils Python, Sklearn Python, sklearn Python library, sklearn Python, sklearn Python package', 'pandas': 'PANDASeq36, PANDAseq2, PANDAs PtDA, PANDAse, PANDA, pandas Python package, pandas Python library, python pandas, Panda, PANDAseq38, Pandas9, PANDAseq, PANDAA, Pandat, PANDAT, PandaSeq32, PandaX, pipeline for analyzing brain diffusion images, Pandas4, ANDAS, PandaT, PANDASeq2, panda, PANDAR, PANDASEQ, pandda, Pandda, Pandas32, PANDAS, pandaR, PandaSeq, PANDAseq33, panda: a pipeline tool for diffusion mri, PANDAseq28, Python pandas package, Python pandas, PANDAs PDA, pandaseq, pandas0, PANDAseq42, Pandas-0, PANDAseq), PANDDA, PANDASeq, PandaSeq2, panda-tool, PANDA), Pandas qcut, pandas, PANDAs, PANDA+, Pandas”, panda (pipeline for analyzing brain diffusion images), PandaR, panda: pipeline for analyzing brain diffusion images, Python package pandas, Pandaseq, Pandaset, python pandas scripts, PandaS, PAND, pandas®, pandas Python, PandasTools, Pandas, PANDAseq57, Pandas©, Pand, pandastable', 'panda': 'RPANDA, PANDAseq2, PANDAse, PANDA GRN, Pandas9, PANDAseq, PANDAA, Pandat, PANDAT, PANDABox, PandaX, pipeline for analyzing brain diffusion images, Pandas4, PandaT, iPANDA, Panda3D, PANDASeq2, panda, PANDA seq, PANDAR, PANDASEQ, pandda, Pandda, Pandas32, PandaSeq, PANDAS, pandaR, Mpanda, pandaCam, panda: a pipeline tool for diffusion mri, PANDA-T1ρ, Pipeline for Analyzing braiN Diffusion imAges, Pandat®, pandaseq, PANDA: Pipeline for Analyzing braiN Diffusion imAges, pandas0, ANDA, Pandas-0, iPanda, PANDAseq), PANDASeq, PANDDA, PandaSeq2, Pandaæsim, panda-tool, PANDA: a pipeline tool for diffusion MRI, pandaSeq, PANDA), Pandanus, PANDAs, pandas, PANDA+, Pandas”, panda (pipeline for analyzing brain diffusion images), PANDAbox, PandaR, panda: pipeline for analyzing brain diffusion images, PANDA (Pipeline for Analyzing braiN Diffusion imAges), Pandaseq, PandaEPL, Panda-seq, Pandas, PandaS, Pandaset, PAND, rpanda, pandas®, PandaX-II, Pandas©, Pand, Panda3d, PANDANA', 'panda (pipeline for analyzing brain diffusion images)': 'Pipeline for Analyzing Brain Diffusion Images, PANDA (Pipeline for Analyzing braiN Diffusion imAges), Pipeline for Analyzing braiN Diffusion imAges (PANDA, PANDA (Pipeline for Analyzing Brain Diffusion Images), PANDA (Pipeline for Analyzing, PANDA (Pipeline for Analysing Brain Diffusion Images), PANDA (Pipeline for Analyzing Brain Diffusion Images toolkit)', 'activity': 'ActivityX16, Activity Wheel, ActivityScope, Activity System, Activity Scan, Activities, ‘activity’, Activity Recall, ACTIVITYBASE, activity-atlas, Activity Plots, ActivityNet, OF Activity, ActivityProbe, activitybase, Activity base, Activ, Activity (RSA), ActivityInfo, ActivityIndex, Activitybot, Activity-Sim, ActivityBase, Activity Linker, activity cage, Activity Theory, ActivityStat, BioActivity, CReActivity, ActivityLoop, Activiteit, Activity Score, ActivityMonitor, Activity2Vec, MyActivity, Inactivity), Activity, ACTIVIA, Activity Survey, activity, activity-stat, ACTIVITIES, ActivityResNet, My Activity, ACTIVITYGRAM, Activity Coach, Activity Log, ACTIVITAL, Tractivity®, ActivityBase XE, Activity3D, ACTIVITY [UNK], ACTIV, Activité, ActivityManager, Activity Map, Activity Plot, ActivityAware, ActivityTracker, Activia, Activity Base, PROACTIVITY, ActivityScore, Activity Atlas, ActivityMeasure, Activiti, Activitygram, Tractivity, Activity List, “activity, ActivityCoach, Activio', 'sets': 'template-activating factor i, hla-dr-associated protein ii, i-2pp2a, sets, igaad, taf-i, phosphatase 2a inhibitor i2pp2a, esets, SETSM, phapii, SET, inhibitor of granzyme a-activated dnase, set, protein set, Set', 'set': 'template-activating factor i, R software gene set variation analysis (GSVA), R/Bioconductor package “Generally Applicable Gene set Enrichment”, R script set Rhea, Seta, SETG, phosphatase 2a inhibitor i2pp2a, SETH, R package GAGE “Generally Acceptable Gene set Enrichment” (GAGE, set variation analysis (GSVA) R package, phapii, R gene set variation analysis (GSVA), inhibitor of granzyme a-activated dnase, SeTT, set, SETS, Setx, SETQ, SET (Signature Evaluation Tool) - a Java tool to evaluate and visualize the sample discrimination abilities of gene expression signatures, software package for gene set enrichment analysis (GSEA), SETI, SETA, SetG, SETB, SETR, taf-i, SET4, Gene set variation analysis (GSVA) R, Signature Evaluation Tool, SeTR, set enrichment for pathway analysis (GAGE) R package, SETP, SETK, SET (Signature Evaluation Tool), R package generally applicable gene set enrichment (GAGE), protein set, R package gene set variation analysis, package for gene set enrichment analysis (GSEA), SETL, Gene set variation analysis package for r, SETM, hla-dr-associated protein ii, R package “gene set variation analysis (GSVA), i-2pp2a, Sets, igaad, sets, setk, Signature Evaluation Tool (SET), SETE, SET - a Java tool to evaluate and visualize the sample discrimination abilities of gene expression signatures', 'rhino': 'Rhinos, rhinoceros, Rhino7, Rhinocort, Rhino 3D, RHIN, RHINOCON, RhinoScan, Rhino six, Rhino3D, HINO, Rhino-CAM, Rhinosime, Rhino Python, rhino', 'rhinoceros': 'Rhinoceres, Rhinoceros5, rhinoceros, Rhinoceros(r), Rhinoceros CAD, Rhinoceros®, Rhinoceros imaging, RhinocerosÒ, Rhinoceros 5, Rhinoceros Search, Rhinoceros®software, Rhinoceros 3D V5, RhinocerosTM, Rhinoceros 3D, Rhinoceros for Mac, Rhinoceros Software, Rhinoceros©, rhino', 'rhinos': 'Rhinoceros5, rhinoceros, Rhino7, rhinos, Rhinoceros®, RhinocerosÒ, Rhino, rhino, Rhinosime, Rhinospider, Rhinoceros©, Rhinoscript'}\n"
     ]
    }
   ],
   "source": [
    "# Add synonyms column\n",
    "benchmark_dictonary= get_synonyms(benchmark_dictonary,1,1)\n",
    "print(benchmark_dictonary)\n",
    "benchmark_df[\"synonyms\"] = benchmark_df[\"name\"].str.lower().map(benchmark_dictonary)\n",
    "\n",
    "# Save the enriched benchmark\n",
    "benchmark_df.to_csv(\"benchmark_with_synonyms.csv\", index=False)"
   ]
  }
 ],
 "metadata": {
  "kernelspec": {
   "display_name": "Python 3",
   "language": "python",
   "name": "python3"
  },
  "language_info": {
   "codemirror_mode": {
    "name": "ipython",
    "version": 3
   },
   "file_extension": ".py",
   "mimetype": "text/x-python",
   "name": "python",
   "nbconvert_exporter": "python",
   "pygments_lexer": "ipython3",
   "version": "3.12.3"
  }
 },
 "nbformat": 4,
 "nbformat_minor": 2
}
