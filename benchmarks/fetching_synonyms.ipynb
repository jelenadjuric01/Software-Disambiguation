{
 "cells": [
  {
   "cell_type": "markdown",
   "metadata": {},
   "source": [
    "Fetching synonyms from CZI and SoftwareKG dataset \n",
    "\n",
    "Considering that CZI has synonyms fetched from most used software websites (PyPi, CRAN, Bioconductor and SciCrunch) this notebook will for every software in the benchmark query the datasets and try to retrieve synonyms. \n",
    "\n",
    "First we save all unique software names (lowered) into a dictionary, the using a function get_synonyms, we find all synonyms that have software_mention (lowered) the same as the key in the dictionary. Dictionary is used in order to speed up the process.\n",
    "\n",
    "CZI dataset was downloaded from https://datadryad.org/dataset/doi:10.5061/dryad.6wwpzgn2c#methods (disambiguated file)."
   ]
  },
  {
   "cell_type": "code",
   "execution_count": 44,
   "metadata": {},
   "outputs": [],
   "source": [
    "import pandas as pd \n",
    "\n",
    "df = pd.read_csv(\"CZI/synonyms_matrix.csv\")\n",
    "benchmark_df = pd.read_excel(\"Benchmark.xlsx\")"
   ]
  },
  {
   "cell_type": "code",
   "execution_count": 45,
   "metadata": {},
   "outputs": [
    {
     "name": "stdout",
     "output_type": "stream",
     "text": [
      "2\n",
      "0\n"
     ]
    }
   ],
   "source": [
    "print(df[\"software_mention\"].isnull().sum())\n",
    "df = df.dropna(subset=[\"software_mention\"])\n",
    "print(df[\"software_mention\"].isnull().sum())\n",
    "df['software_mention'] = df['software_mention'].astype(str)  # Convert all values to strings\n",
    "benchmark_df['name']=benchmark_df['name'].astype(str)\n"
   ]
  },
  {
   "cell_type": "code",
   "execution_count": 46,
   "metadata": {},
   "outputs": [],
   "source": [
    "benchmark_dict = {name.lower(): [] for name in benchmark_df[\"name\"].unique()}"
   ]
  },
  {
   "cell_type": "code",
   "execution_count": 47,
   "metadata": {},
   "outputs": [],
   "source": [
    "def get_synonyms(df, dictionary):\n",
    "    for key in dictionary.keys():\n",
    "        # Find matching rows in synonyms_df where the software mention matches the dictionary key\n",
    "        matches = df[df[\"software_mention\"].str.lower() == key][\"synonym\"].tolist()\n",
    "        # Store synonyms as a list\n",
    "        benchmark_dict[key] = \", \".join(matches)\n",
    "\n",
    "    "
   ]
  },
  {
   "cell_type": "code",
   "execution_count": null,
   "metadata": {},
   "outputs": [
    {
     "name": "stdout",
     "output_type": "stream",
     "text": [
      "{'sklearn': 'sklearn, sklearn, Sklearn API, Scikit-learn, scikits.learn, sklearn, sklearn python package, Python sklearn package, sklearn Python library, Python package sklearn, sklearn Python, sklearn Python package, Python sklearn library, Python sklearn, sklearn.tree, sklearn.svm, sklearn-fuse, sklear, sklearn0, sklearn.utils, sklearn_extra, sklearn‐rvm, sklearn”, sklearning, sklearn.hmm, sklearn', 'sklearn python package': 'sklearn package, sklearn Python, learn Python package37, Nilearn Python package, hmmlearn Python package, sklearn python package, sklearn package, sklearn Python package', 'python package sklearn': 'Python sklearn package, Python package scikit-learn, Python packages, Python package sci-kit learn, Python sklearn, Python package scikit learn, Python package “scikit-learn”, Python package Scikit-learn, Python package scikit‐learn, Python package scikits.learn, Python package scipy, Python package Holes, Python package seaborn', 'python sklearn library': 'Python ‘sklearn’ library, Python Scikit-learn library, Python scikit-learn library, Python Sklearn, Python3 sklearn library, Python Scikit-Learn library, Python sklearn library, Python sklearn-library, Python ‘sklearn’ library, Python Scikit-learn library, Python scikit-learn library, Python Sklearn library, Python3 sklearn library, Python sklearn, Python sklearn-library', 'python sklearn': 'Python Sklearn library, Python sklearn, Python-sklearn, Python sklearn package, Python package sklearn, Python Sklearn, Python3 sklearn, Python-sklearn, Python sklearn library, Python sklearn-library, Python sklearn.cluster', 'sklearn python': 'sklearn Python, Sklearn of Python, Sklearn Python, sklearn Python library, sklearn Python package, sklearn.utils Python', 'pandas': 'Pandat, Pandaseq, Pand, Panda, Pandas-0, Pandas4, PandaR, PandaT, Pandas qcut, PandaX, Pandas”, Pandas9, Pandas32, PandaS, Pandaset, Pandas©, PandasTools, Pandda, panda, panda-tool, pandas, panda: pipeline for analyzing brain diffusion images, pipeline for analyzing brain diffusion images, panda (pipeline for analyzing brain diffusion images), panda: a pipeline tool for diffusion mri, PANDAA, PANDAseq, PANDA, PANDAS, PANDAR, PANDA+, PANDAs PDA, PANDAs PtDA, PANDAseq33, PANDA), PANDAT, PANDAseq), PAND, PANDDA, PANDAse, PANDAseq42, PANDAseq28, PANDAseq38, PANDAseq57, PANDAseq2, panda, panda-tool, pandas, panda: pipeline for analyzing brain diffusion images, pipeline for analyzing brain diffusion images, panda (pipeline for analyzing brain diffusion images), panda: a pipeline tool for diffusion mri, pandas Python, Python pandas package, Python package pandas, Python pandas, pandas Python package, python pandas scripts, python pandas, pandas Python library, pandda, pandaseq, pandaR, panda, pandas®, pandastable, pandas0, panda, panda-tool, panda: pipeline for analyzing brain diffusion images, pipeline for analyzing brain diffusion images, panda (pipeline for analyzing brain diffusion images), panda: a pipeline tool for diffusion mri, PANDAA, PANDA, PANDASeq, PANDAR, PANDA+, PANDASEQ, PANDAs, PANDA), PANDAT, PAND, PANDDA, PANDASeq36, ANDAS, PANDASeq2, Pandas, Pandat, PandaSeq, Pand, Panda, PandaR, PandaSeq2, PandaT, PandaX, PandaSeq32, Pandda, panda, panda-tool, pandas, panda: pipeline for analyzing brain diffusion images, pipeline for analyzing brain diffusion images, panda (pipeline for analyzing brain diffusion images), panda: a pipeline tool for diffusion mri', 'panda': 'Pandas, Pandat, iPanda, PandaSeq, Pandaseq, Pand, Pandas-0, Pandas4, Panda3D, PandaEPL, PandaR, Pandaæsim, PandaSeq2, Pandat®, PandaT, Panda-seq, PandaX, PandaX-II, Pandas”, Pandas9, Pandanus, Pandas32, PandaS, Pandaset, Pandas©, Panda3d, Pandda, panda, panda-tool, panda: pipeline for analyzing brain diffusion images, pipeline for analyzing brain diffusion images, panda (pipeline for analyzing brain diffusion images), panda: a pipeline tool for diffusion mri, panda, panda-tool, panda: pipeline for analyzing brain diffusion images, pipeline for analyzing brain diffusion images, panda (pipeline for analyzing brain diffusion images), panda: a pipeline tool for diffusion mri, PANDAA, PANDAseq, iPANDA, PANDAS, PANDASeq, PANDA GRN, PANDAR, RPANDA, PANDA+, PANDASEQ, PANDAs, PANDA), PANDAT, PANDAseq), PAND, PANDDA, PANDAse, PANDA seq, PANDABox, PANDAbox, PANDA-T1ρ, ANDA, PANDAseq2, PANDANA, PANDASeq2, Pipeline for Analyzing braiN Diffusion imAges, PANDA: Pipeline for Analyzing braiN Diffusion imAges, panda-tool, PANDA (Pipeline for Analyzing braiN Diffusion imAges), PANDA: a pipeline tool for diffusion MRI, panda-tool, panda: pipeline for analyzing brain diffusion images, pipeline for analyzing brain diffusion images, panda (pipeline for analyzing brain diffusion images), panda: a pipeline tool for diffusion mri, pandas, pandda, pandaseq, pandaR, rpanda, pandaSeq, pandaCam, pandas®, pandas0, Mpanda, Pand, panda, panda-tool, panda: pipeline for analyzing brain diffusion images, pipeline for analyzing brain diffusion images, panda (pipeline for analyzing brain diffusion images), panda: a pipeline tool for diffusion mri', 'panda (pipeline for analyzing brain diffusion images)': 'PANDA (Pipeline for Analyzing, Pipeline for Analyzing braiN Diffusion imAges (PANDA, PANDA (Pipeline for Analyzing Brain Diffusion Images), PANDA (Pipeline for Analyzing, PANDA (Pipeline for Analyzing Brain Diffusion Images toolkit), PANDA (Pipeline for Analysing Brain Diffusion Images), PANDA (Pipeline for Analyzing braiN Diffusion imAges), Pipeline for Analyzing Brain Diffusion Images', 'activity': 'ACTIV, ACTIVITAL, ACTIVITYGRAM, ACTIVIA, PROACTIVITY, ACTIVITYBASE, ACTIVITIES, ACTIVITY [UNK], ‘activity’, “activity, Activity, activity-atlas, activity cage, activity-stat, activitybase, Tractivity®, Inactivity), Tractivity, ACTIV, Activity Recall, ActivityResNet, Activities, activity, ActivityScope, Activity Linker, Activity Theory, BioActivity, Activiti, ActivityStat, CReActivity, Activity Coach, Activity Log, Activ, ActivityScore, Activity Base, ActivityBase, ActivityBase XE, Activity Atlas, Activity List, Activity Map, ActivityX16, Activity Wheel, Activity-Sim, Activité, Activity base, ActivityManager, Activia, ActivityLoop, Activiteit, OF Activity, Activity System, Activity Scan, Activity Score, Activity Plot, Activity Plots, Activity Survey, Activity (RSA), ActivityInfo, ActivityMeasure, ActivityAware, ActivityMonitor, Activitybot, ActivityNet, ActivityTracker, Activity3D, Activity2Vec, Activitygram, Activio, My Activity, MyActivity, ActivityIndex, ActivityCoach, ActivityProbe', 'sets': 'set, esets, set, i-2pp2a, inhibitor of granzyme a-activated dnase, igaad, hla-dr-associated protein ii, template-activating factor i, sets, taf-i, phosphatase 2a inhibitor i2pp2a, protein set, phapii, SET, SETSM, set, i-2pp2a, inhibitor of granzyme a-activated dnase, igaad, hla-dr-associated protein ii, template-activating factor i, sets, taf-i, phosphatase 2a inhibitor i2pp2a, protein set, phapii, Set', 'set': 'SeTR, SeTT, set, i-2pp2a, inhibitor of granzyme a-activated dnase, igaad, hla-dr-associated protein ii, template-activating factor i, taf-i, phosphatase 2a inhibitor i2pp2a, protein set, phapii, Setx, SetG, Sets, Seta, i-2pp2a, inhibitor of granzyme a-activated dnase, igaad, hla-dr-associated protein ii, template-activating factor i, taf-i, phosphatase 2a inhibitor i2pp2a, protein set, phapii, R/Bioconductor package “Generally Applicable Gene set Enrichment”, R package GAGE “Generally Acceptable Gene set Enrichment” (GAGE, R package “gene set variation analysis (GSVA), R package generally applicable gene set enrichment (GAGE), set variation analysis (GSVA) R package, R package gene set variation analysis, Gene set variation analysis package for r, set enrichment for pathway analysis (GAGE) R package, package for gene set enrichment analysis (GSEA), Gene set variation analysis (GSVA) R, R software gene set variation analysis (GSVA), R script set Rhea, software package for gene set enrichment analysis (GSEA), R gene set variation analysis (GSVA), sets, setk, SET4, SETG, SETL, SETH, SETS, SETQ, SETA, SETB, SETI, SETP, SETK, SETR, SETE, SETM, set, i-2pp2a, inhibitor of granzyme a-activated dnase, igaad, hla-dr-associated protein ii, template-activating factor i, taf-i, phosphatase 2a inhibitor i2pp2a, protein set, phapii, Signature Evaluation Tool, SET (Signature Evaluation Tool) - a Java tool to evaluate and visualize the sample discrimination abilities of gene expression signatures, SET - a Java tool to evaluate and visualize the sample discrimination abilities of gene expression signatures, SET (Signature Evaluation Tool), Signature Evaluation Tool (SET)', 'rhino': 'HINO, RHIN, RHINOCON, rhinoceros, rhino, rhinoceros, Rhino Python, Rhino 3D, Rhinocort, Rhino3D, Rhino-CAM, Rhinos, Rhino7, Rhinosime, RhinoScan, Rhino six', 'rhinoceros': 'rhino, rhinoceros, Rhinoceros 3D, Rhinoceros(r), Rhinoceros®, Rhinoceros©, Rhinoceros CAD, Rhinoceros®software, Rhinoceros5, Rhinoceros imaging, Rhinoceros for Mac, Rhinoceros 3D V5, Rhinoceros Software, Rhinoceres, Rhinoceros Search, RhinocerosÒ, Rhinoceros 5, RhinocerosTM, rhino, rhinoceros', 'rhinos': 'Rhino, Rhinoceros®, Rhinoceros©, Rhino7, Rhinoceros5, Rhinosime, Rhinoscript, RhinocerosÒ, Rhinospider, rhinos, rhino, rhinoceros'}\n"
     ]
    }
   ],
   "source": [
    "# Add synonyms column\n",
    "get_synonyms(df, benchmark_dict)\n",
    "print(benchmark_dict)\n",
    "benchmark_df[\"synonyms\"] = benchmark_df[\"name\"].str.lower().map(benchmark_dict)\n",
    "\n",
    "# Save the enriched benchmark\n",
    "benchmark_df.to_csv(\"benchmark_with_synonyms.csv\", index=False)"
   ]
  }
 ],
 "metadata": {
  "kernelspec": {
   "display_name": "Python 3",
   "language": "python",
   "name": "python3"
  },
  "language_info": {
   "codemirror_mode": {
    "name": "ipython",
    "version": 3
   },
   "file_extension": ".py",
   "mimetype": "text/x-python",
   "name": "python",
   "nbconvert_exporter": "python",
   "pygments_lexer": "ipython3",
   "version": "3.12.3"
  }
 },
 "nbformat": 4,
 "nbformat_minor": 2
}
