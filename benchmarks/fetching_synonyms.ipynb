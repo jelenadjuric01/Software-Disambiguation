{
 "cells": [
  {
   "cell_type": "markdown",
   "metadata": {},
   "source": [
    "Fetching synonyms from CZI and SoftwareKG dataset \n",
    "\n",
    "Considering that CZI has synonyms fetched from most used software websites (PyPi, CRAN, Bioconductor and SciCrunch) this notebook will for every software in the benchmark query the datasets and try to retrieve synonyms. \n",
    "\n",
    "First we save all unique software names (lowered) into a dictionary, the using a function get_synonyms, we find all synonyms that have software_mention (lowered) the same as the key in the dictionary. Dictionary is used in order to speed up the process.\n",
    "\n",
    "CZI dataset was downloaded from https://datadryad.org/dataset/doi:10.5061/dryad.6wwpzgn2c#methods (disambiguated file)."
   ]
  },
  {
   "cell_type": "code",
   "execution_count": 14,
   "metadata": {},
   "outputs": [],
   "source": [
    "import pandas as pd \n",
    "#Read files\n",
    "df = pd.read_csv(\"CZI/synonyms_matrix.csv\")\n",
    "benchmark_df = pd.read_excel(\"Benchmark.xlsx\")"
   ]
  },
  {
   "cell_type": "code",
   "execution_count": 15,
   "metadata": {},
   "outputs": [
    {
     "name": "stdout",
     "output_type": "stream",
     "text": [
      "2\n",
      "0\n"
     ]
    }
   ],
   "source": [
    "#check for null values and drop them\n",
    "#turning all names into strings\n",
    "print(df[\"software_mention\"].isnull().sum())\n",
    "df = df.dropna(subset=[\"software_mention\"])\n",
    "print(df[\"software_mention\"].isnull().sum())\n",
    "df['software_mention'] = df['software_mention'].astype(str)  # Convert all values to strings\n",
    "benchmark_df['name']=benchmark_df['name'].astype(str)\n"
   ]
  },
  {
   "cell_type": "code",
   "execution_count": null,
   "metadata": {},
   "outputs": [],
   "source": [
    "#making a dictionary for the benchmark\n",
    "benchmark_dict = {name.lower(): set() for name in benchmark_df[\"name\"].unique()}\n",
    "#ADD NEW DICTIONARY FOR SOFTWAREKG THAT WILL NOT LOWER NAMES AND QUERY IT LIKE THAT AND THEN PUT TWO DICTIONARIES TOGETHER\n",
    "benchmark_dict[\"excel\"]=set()"
   ]
  },
  {
   "cell_type": "code",
   "execution_count": 24,
   "metadata": {},
   "outputs": [],
   "source": [
    "#Function that retirieves synonyms for each software mention\n",
    "def get_synonyms_from_CZI(df, dictionary):\n",
    "    for key in dictionary.keys():\n",
    "        # Find matching rows in synonyms_df where the software mention matches the dictionary key\n",
    "        matches = df[df[\"software_mention\"].str.lower() == key][\"synonym\"].tolist()\n",
    "        # Store synonyms as a list\n",
    "        dictionary[key].add(matches)\n",
    "\n",
    "    "
   ]
  },
  {
   "cell_type": "code",
   "execution_count": 25,
   "metadata": {},
   "outputs": [],
   "source": [
    "from SPARQLWrapper import SPARQLWrapper, JSON\n",
    "\n",
    "\n",
    "def get_synonyms_from_SoftwareKG(dictionary):\n",
    "    # Define the SPARQL endpoint\n",
    "    sparql = SPARQLWrapper(\"https://data.gesis.org/somesci/sparql\")\n",
    "    # Execute the query\n",
    "    for key in dictionary.keys():\n",
    "        query = f\"\"\"\n",
    "    PREFIX nif: <http://persistence.uni-leipzig.org/nlp2rdf/ontologies/nif-core#>\n",
    "PREFIX sms: <http://data.gesis.org/somesci/>\n",
    "PREFIX its: <http://www.w3.org/2005/11/its/rdf#>\n",
    "\n",
    "SELECT DISTINCT ?synonym\n",
    "WHERE {{\n",
    "    # Find the software entity associated with the given spelling\n",
    "    ?sw_phrase a nif:Phrase ;\n",
    "               its:taClassRef [ rdfs:subClassOf sms:Software ] ;\n",
    "               its:taIdentRef ?sw_identity ;\n",
    "               nif:anchorOf \"{key}\" .  # Replace \"Excel\" with the desired software name\n",
    "\n",
    "    # Retrieve other spellings linked to the same software identity\n",
    "    ?other_phrase its:taIdentRef ?sw_identity ;\n",
    "                  nif:anchorOf ?synonym .\n",
    "    \n",
    "    FILTER (?synonym != \"{key}\")  # Exclude the original input spelling from results\n",
    "}}\n",
    "ORDER BY ?synonym\n",
    "    \"\"\"\n",
    "        try:\n",
    "            # Set query and return format\n",
    "            sparql.setQuery(query)\n",
    "            sparql.setReturnFormat(JSON)\n",
    "            results = sparql.query().convert()\n",
    "\n",
    "            # Process results\n",
    "            for result in results[\"results\"][\"bindings\"]:\n",
    "                synonym = result.get(\"synonym\", {}).get(\"value\")\n",
    "                if synonym:\n",
    "                    dictionary[key].add(synonym)\n",
    "\n",
    "        except Exception as e:\n",
    "            print(f\"Error retrieving synonyms for {key}: {e}\")\n",
    "        "
   ]
  },
  {
   "cell_type": "code",
   "execution_count": 26,
   "metadata": {},
   "outputs": [],
   "source": [
    "def get_synonyms(dictionary, CZI = 1, SoftwareKG = 1):\n",
    "    if CZI == 1:\n",
    "        get_synonyms_from_CZI(df, dictionary)\n",
    "    if SoftwareKG == 1:\n",
    "        get_synonyms_from_SoftwareKG(dictionary)\n",
    "    dictionary = {key: \", \".join(value) for key, value in dictionary.items()}"
   ]
  },
  {
   "cell_type": "code",
   "execution_count": 32,
   "metadata": {},
   "outputs": [
    {
     "name": "stdout",
     "output_type": "stream",
     "text": [
      "{'sklearn': set(), 'sklearn python package': set(), 'python package sklearn': set(), 'python sklearn library': set(), 'python sklearn': set(), 'sklearn python': set(), 'pandas': set(), 'panda': set(), 'panda (pipeline for analyzing brain diffusion images)': set(), 'activity': set(), 'sets': set(), 'set': set(), 'rhino': set(), 'rhinoceros': set(), 'rhinos': set(), 'excel': {'Office Excel', 'Microsoft Office Excel', 'Excel', 'EXCEL'}}\n"
     ]
    }
   ],
   "source": [
    "# Add synonyms column\n",
    "get_synonyms(benchmark_dict,0,1)\n",
    "print(benchmark_dict)\n",
    "benchmark_df[\"synonyms\"] = benchmark_df[\"name\"].str.lower().map(benchmark_dict)\n",
    "\n",
    "# Save the enriched benchmark\n",
    "benchmark_df.to_csv(\"benchmark_with_synonyms.csv\", index=False)"
   ]
  }
 ],
 "metadata": {
  "kernelspec": {
   "display_name": "Python 3",
   "language": "python",
   "name": "python3"
  },
  "language_info": {
   "codemirror_mode": {
    "name": "ipython",
    "version": 3
   },
   "file_extension": ".py",
   "mimetype": "text/x-python",
   "name": "python",
   "nbconvert_exporter": "python",
   "pygments_lexer": "ipython3",
   "version": "3.12.3"
  }
 },
 "nbformat": 4,
 "nbformat_minor": 2
}
