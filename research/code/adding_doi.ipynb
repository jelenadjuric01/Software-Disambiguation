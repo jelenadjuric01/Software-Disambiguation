{
 "cells": [
  {
   "cell_type": "markdown",
   "id": "500192f1",
   "metadata": {},
   "source": [
    "This notebook containes code that is used to add doi and paragraph of software mentions from CZI linked data set. "
   ]
  },
  {
   "cell_type": "code",
   "execution_count": 4,
   "id": "57fb19b5",
   "metadata": {},
   "outputs": [],
   "source": [
    "import pandas as pd"
   ]
  },
  {
   "cell_type": "code",
   "execution_count": 5,
   "id": "f282a60e",
   "metadata": {},
   "outputs": [],
   "source": [
    " \n",
    "#Read files\n",
    "labels = pd.read_csv(\"../CZI/comm_IDs_with_labels.csv\",delimiter=\"\\t\")\n"
   ]
  },
  {
   "cell_type": "code",
   "execution_count": 6,
   "id": "36ebb644",
   "metadata": {},
   "outputs": [
    {
     "name": "stdout",
     "output_type": "stream",
     "text": [
      "  license                      location    pmcid  pmid  \\\n",
      "0    comm  comm/Micropl/PMC8475362.nxml  8475362   NaN   \n",
      "1    comm  comm/Micropl/PMC8475362.nxml  8475362   NaN   \n",
      "2    comm  comm/Micropl/PMC8475362.nxml  8475362   NaN   \n",
      "3    comm  comm/Micropl/PMC8475362.nxml  8475362   NaN   \n",
      "4    comm  comm/Micropl/PMC8475362.nxml  8475362   NaN   \n",
      "\n",
      "                          doi  pubdate  \\\n",
      "0  10.1186/s43591-021-00017-9     2021   \n",
      "1  10.1186/s43591-021-00017-9     2021   \n",
      "2  10.1186/s43591-021-00017-9     2021   \n",
      "3  10.1186/s43591-021-00017-9     2021   \n",
      "4  10.1186/s43591-021-00017-9     2021   \n",
      "\n",
      "                                              source  number  \\\n",
      "0  Particle selection and identification of polym...       7   \n",
      "1  Particle selection and identification of polym...       8   \n",
      "2                               Statistical analysis      12   \n",
      "3                               Statistical analysis      12   \n",
      "4                               Statistical analysis      12   \n",
      "\n",
      "                                                text          software  \\\n",
      "0  Then, all items were photographed under a bino...  Olympus CellSens   \n",
      "1  Spectra were then vector normalized (OPUS, ver...              OPUS   \n",
      "2  Model fit was assessed through functions provi...  R package DHARMa   \n",
      "3  Analyses and plotting were performed in R (ver...                 R   \n",
      "4  Analyses and plotting were performed in R (ver...           ggplot2   \n",
      "\n",
      "  version   ID curation_label  \n",
      "0     NaN  SM0    not_curated  \n",
      "1     NaN  SM1        unclear  \n",
      "2     NaN  SM2    not_curated  \n",
      "3     NaN  SM3       software  \n",
      "4     NaN  SM4       software  \n"
     ]
    }
   ],
   "source": [
    "print(labels.head())"
   ]
  },
  {
   "cell_type": "code",
   "execution_count": 8,
   "id": "6d493f64",
   "metadata": {},
   "outputs": [],
   "source": [
    "pypi = pd.read_csv(\"../CZI/pypi_df.csv\")"
   ]
  },
  {
   "cell_type": "code",
   "execution_count": 4,
   "id": "d0649444",
   "metadata": {},
   "outputs": [],
   "source": [
    "github = pd.read_csv(\"../CZI/github.csv\",encoding=\"utf-16\")"
   ]
  },
  {
   "cell_type": "code",
   "execution_count": 7,
   "id": "6e9b3485",
   "metadata": {},
   "outputs": [
    {
     "name": "stdout",
     "output_type": "stream",
     "text": [
      "Index(['ID', 'software_mention', 'mapped_to', 'source', 'package_url',\n",
      "       'homepage_url', 'other_urls', 'license', 'github_repo',\n",
      "       'github_repo_license', 'exact_match'],\n",
      "      dtype='object')\n",
      "(6234, 11)\n",
      "         ID software_mention    mapped_to      source  \\\n",
      "0   SM26805               A3           A3  CRAN Index   \n",
      "1   SM40389           ABACUS       ABACUS  CRAN Index   \n",
      "2  SM291013              abc          abc  CRAN Index   \n",
      "3  SM538227      ABCanalysis  ABCanalysis  CRAN Index   \n",
      "4  SM253680         abcdeFBA     abcdeFBA  CRAN Index   \n",
      "\n",
      "                                         package_url  \\\n",
      "0  https://cran.r-project.org/web/packages/A3/ind...   \n",
      "1  https://cran.r-project.org/web/packages/ABACUS...   \n",
      "2  https://cran.r-project.org/web/packages/abc/in...   \n",
      "3  https://cran.r-project.org/web/packages/ABCana...   \n",
      "4  https://cran.r-project.org/web/packages/abcdeF...   \n",
      "\n",
      "                                        homepage_url  other_urls    license  \\\n",
      "0                                             [None]         NaN      GPL-2   \n",
      "1           ['https://shiny.abdn.ac.uk/Stats/apps/']         NaN      GPL-3   \n",
      "2                                             [None]         NaN  GPL (≥ 3)   \n",
      "3  ['https://www.uni-marburg.de/fb12/datenbionik/...         NaN      GPL-3   \n",
      "4                                             [None]         NaN      GPL-2   \n",
      "\n",
      "  github_repo  github_repo_license  exact_match  \n",
      "0         NaN                  NaN         True  \n",
      "1         NaN                  NaN         True  \n",
      "2         NaN                  NaN         True  \n",
      "3         NaN                  NaN         True  \n",
      "4         NaN                  NaN         True  \n"
     ]
    }
   ],
   "source": [
    "cran = pd.read_csv(\"../CZI/cran_df.csv\")\n",
    "print(cran.columns)\n",
    "print(cran.shape)\n",
    "print(cran.head())\n"
   ]
  },
  {
   "cell_type": "code",
   "execution_count": 10,
   "id": "75884df8",
   "metadata": {},
   "outputs": [],
   "source": [
    "def add_doi_and_paragraph(df:pd.DataFrame)->pd.DataFrame:\n",
    "    \"\"\"\n",
    "    Given:\n",
    "      - df: your original metadata DataFrame with columns \n",
    "        ['ID','software_mention','mapped_to','source','platform',\n",
    "         'package_url','homepage_url','other_urls','github_repo','exact_match']\n",
    "      - labels: the “raw” mentions DataFrame (e.g. from comm_raw.tsv.gz)\n",
    "        which must contain at least ['ID','doi','text'] columns\n",
    "\n",
    "    Returns a new DataFrame where for each row in df you look up\n",
    "    all matching (doi, text) pairs in labels.  If an ID has multiple\n",
    "    matches in labels, you get additional rows (one per pair).  \n",
    "    The returned DataFrame has all original df columns plus:\n",
    "      - doi\n",
    "      - paragraph  (renamed from labels.text)\n",
    "    \"\"\"\n",
    "    # Extract only the needed columns from labels and rename text→paragraph\n",
    "    label_subset = labels[['ID', 'doi', 'text']].rename(columns={'text': 'paragraph'})\n",
    "    \n",
    "    # Perform a left-join so every df row is preserved; rows with no match get NaN\n",
    "    enriched = df.merge(label_subset, on='ID', how='left')\n",
    "    enriched = enriched.dropna(subset=['doi', 'paragraph'])\n",
    "    enriched = enriched.drop_duplicates(subset=['ID', 'doi', 'paragraph'], keep='first')\n",
    "\n",
    "    # Reorder columns: original df cols + doi + paragraph\n",
    "    original_cols = ['ID','software_mention','mapped_to',\n",
    "                     'package_url','homepage_url','other_urls','github_repo','exact_match']\n",
    "    return enriched[ original_cols + ['doi','paragraph'] ]"
   ]
  },
  {
   "cell_type": "code",
   "execution_count": 6,
   "id": "a52e411b",
   "metadata": {},
   "outputs": [],
   "source": [
    "github=add_doi_and_paragraph(github)\n",
    "github.to_csv(\"../github_from_CZI.csv\")"
   ]
  },
  {
   "cell_type": "code",
   "execution_count": 9,
   "id": "fd38554c",
   "metadata": {},
   "outputs": [],
   "source": [
    "pypi=add_doi_and_paragraph(pypi)\n",
    "pypi.to_csv(\"../pypi_from_CZI.csv\")"
   ]
  },
  {
   "cell_type": "code",
   "execution_count": 11,
   "id": "cb0da945",
   "metadata": {},
   "outputs": [],
   "source": [
    "cran = add_doi_and_paragraph(cran)\n",
    "cran.to_csv(\"../cran_from_CZI.csv\")"
   ]
  }
 ],
 "metadata": {
  "kernelspec": {
   "display_name": "Python 3",
   "language": "python",
   "name": "python3"
  },
  "language_info": {
   "codemirror_mode": {
    "name": "ipython",
    "version": 3
   },
   "file_extension": ".py",
   "mimetype": "text/x-python",
   "name": "python",
   "nbconvert_exporter": "python",
   "pygments_lexer": "ipython3",
   "version": "3.12.3"
  }
 },
 "nbformat": 4,
 "nbformat_minor": 5
}
